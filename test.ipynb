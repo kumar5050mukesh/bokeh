{
 "cells": [
  {
   "cell_type": "code",
   "execution_count": 3,
   "metadata": {},
   "outputs": [],
   "source": [
    "\n",
    "# Q1. How can you create a Bokeh plot using Python code?\n",
    "# answer\n",
    "from bokeh.plotting import figure \n",
    "# above line is used for importing the figure object \n",
    "from bokeh.io import output_notebook, show\n",
    "# above line is written to plot the graph in note book\n",
    "from numpy import sin, linspace\n",
    "x = linspace(-6, 6, 100)\n",
    "y = sin(x)\n",
    "# above line creates simple data\n",
    "p = figure(width=400, height=400)\n",
    "p.circle(x, y, size=3, color=\"blue\", alpha=0.7)\n",
    "show(p)\n",
    "# above first line creates a figure of size 500 *500 and stores in p and the second line calls\n",
    "# circle method to print circle "
   ]
  },
  {
   "attachments": {},
   "cell_type": "markdown",
   "metadata": {},
   "source": [
    "![](kalu.png)"
   ]
  },
  {
   "attachments": {},
   "cell_type": "markdown",
   "metadata": {},
   "source": [
    "<!-- Q2. What are glyphs in Bokeh, and how can you add them to a Bokeh plot? Explain with an example. -->\n",
    "from bokeh.plotting import figure \n",
    "x = [4,6,8,9,12,14]\n",
    "y = [5,6,9,12,1,6]\n",
    "\n",
    "\n",
    "p = figure(width=400, height=400)\n",
    "\n",
    "\n",
    "p.line(x, y, line_width=2)\n",
    "p.circle(x, y, fill_color=\"white\", size=8)\n",
    "\n",
    "\n",
    "show(p) "
   ]
  },
  {
   "cell_type": "code",
   "execution_count": 10,
   "metadata": {},
   "outputs": [],
   "source": [
    "# <!-- Q2. What are glyphs in Bokeh, and how can you add them to a Bokeh plot? Explain with an example. -->\n",
    "# from bokeh.plotting import figure \n",
    "x = [4,6,8,9,12,14]\n",
    "y = [5,6,9,12,1,6]\n",
    "\n",
    "\n",
    "p = figure(width=400, height=400)\n",
    "\n",
    "\n",
    "p.line(x, y, line_width=2)\n",
    "p.circle(x, y, fill_color=\"white\", size=8)\n",
    "p.arc(x,y,radius=0.8, start_angle=0.4, end_angle=4.8, color=\"red\")\n",
    "\n",
    "\n",
    "show(p) \n",
    "\n",
    "'''glyph means calling the diffrent method and adding it on figure object here the line method ,circle method, and arc method \n",
    "is called to plot the diffrent shapes for the corresponding x and y parameter'''"
   ]
  },
  {
   "attachments": {},
   "cell_type": "markdown",
   "metadata": {},
   "source": [
    "![](img2.png)"
   ]
  },
  {
   "cell_type": "code",
   "execution_count": 11,
   "metadata": {},
   "outputs": [],
   "source": [
    "# Q3. How can you customize the appearance of a Bokeh plot, including the axes, title, and legend?\n",
    "\n",
    "\n"
   ]
  },
  {
   "cell_type": "code",
   "execution_count": 14,
   "metadata": {},
   "outputs": [],
   "source": [
    "import numpy as np\n",
    "\n",
    "x = np.linspace(0, 4*np.pi, 100)\n",
    "y = np.sin(x)\n",
    "\n",
    "p = figure(height=400)\n",
    "\n",
    "p.circle(x, y, legend_label=\"sin(x)\")\n",
    "p.line(x, 2*y, legend_label=\"2*sin(x)\")\n",
    "\n",
    "show(p)\n",
    "\n",
    "# legend is created by using the parameter legend_label="
   ]
  },
  {
   "attachments": {},
   "cell_type": "markdown",
   "metadata": {},
   "source": [
    "![](bokeh_plot(5).png)"
   ]
  },
  {
   "attachments": {},
   "cell_type": "markdown",
   "metadata": {},
   "source": [
    "![](img5.png)"
   ]
  },
  {
   "cell_type": "code",
   "execution_count": 24,
   "metadata": {},
   "outputs": [
    {
     "data": {
      "text/plain": [
       "'WE can set the x attribute by using the method xaxis.axis_label method setting the title by passing title parameter in figure'"
      ]
     },
     "execution_count": 24,
     "metadata": {},
     "output_type": "execute_result"
    }
   ],
   "source": [
    "from bokeh.plotting import figure, show\n",
    "from bokeh.models import ColumnDataSource\n",
    "\n",
    "temp = [20, 24, 36, 32, 33, 31]\n",
    "month = ['jan', 'feb', 'mar', 'apr', 'may', 'jun']\n",
    "\n",
    "source = ColumnDataSource(data=dict(month=month, temp=temp))\n",
    "\n",
    "p = figure(x_range=month, title=\"GAYA\")\n",
    "p.vbar(x='month', top='temp', width=0.9, color=\"red\", source=source)\n",
    "p.xaxis.axis_label = 'MONTH'\n",
    "p.yaxis.axis_label = 'TEMPERATURE'\n",
    "\n",
    "show(p)\n",
    "\n",
    "\"\"\"WE can set the x attribute by using the method xaxis.axis_label method setting the title by passing title parameter in figure\"\"\"\n"
   ]
  },
  {
   "attachments": {},
   "cell_type": "markdown",
   "metadata": {},
   "source": [
    "![](img7.png)"
   ]
  },
  {
   "cell_type": "code",
   "execution_count": null,
   "metadata": {},
   "outputs": [],
   "source": [
    "\"\"\"--------------------------ANSWER 4--------------------------------------------------------------\"\"\"\n",
    "\"\"\"Bokeh is a Python library , create interactive visualizations for the web. Bokeh server \n",
    "is ideal for creating dynamic and interactive visualizations.\n",
    "\n",
    " create a Bokeh plot or widget, then define a Python function that specifies\n",
    "how the plot or widget should be updated in response to user interactions. This function is known as a \n",
    "\"callback\" function, and it is triggered whenever the user interacts with the plot or widget. \n",
    "The callback function can update the plot or widget in real time, by modifying the plot or \n",
    "widget's data or properties.\n",
    "\n",
    " Finally start the Bokeh server, and deploy the application to a web server or cloud platform, where users can access \n",
    "it using a web browser.\n",
    "\n",
    "Overall, Bokeh server allows you to create powerful and interactive visualizations for the web, \n",
    "which can be updated and respond to user interactions in real time, making it a great tool for\n",
    "building data-driven web applications.\"\"\"\n"
   ]
  },
  {
   "cell_type": "code",
   "execution_count": null,
   "metadata": {},
   "outputs": [],
   "source": [
    "# Q5. How can you embed a Bokeh plot into a web page or dashboard using Flask or Django?\n",
    "\n",
    "from flask import Flask, render_template\n",
    "\n",
    "from bokeh.embed import components\n",
    "from bokeh.plotting import figure\n",
    "from bokeh.resources import INLINE\n",
    "\n",
    "\n",
    "\n",
    "app = Flask(__name__)\n",
    "\n",
    "\n",
    "@app.route('/')\n",
    "def index():\n",
    "    return 'Hello, World!'\n",
    "\n",
    "\n",
    "@app.route('/vbar')\n",
    "def bokeh():\n",
    "\n",
    "\n",
    "    fig = figure(width=600, height=600)\n",
    "    fig.vbar(\n",
    "        x=[8,4,9,12,15,17],\n",
    "        width=0.5,\n",
    "        bottom=0,\n",
    "        top=[1.7, 2.2, 4.6, 3.9],\n",
    "        color='red'\n",
    "    )\n",
    "\n",
    "    # grab the static resources\n",
    "    js_resources = INLINE.render_js()\n",
    "    css_resources = INLINE.render_css()\n",
    "\n",
    "    # render template\n",
    "    script, div = components(fig)\n",
    "    return  render_template(\n",
    "        'index.html',\n",
    "        plot_script=script,\n",
    "        plot_div=div,\n",
    "        js_resources=js_resources,\n",
    "        css_resources=css_resources,\n",
    "    )\n",
    "    \n",
    "\n",
    "\n",
    "if __name__ == '__main__':\n",
    "    app.run(debug=True)\n",
    "\"\"\"\n",
    "<!doctype html>\n",
    "<html lang=\"en\">\n",
    "  <head>\n",
    "    <meta charset=\"utf-8\">\n",
    "    <meta http-equiv=\"content-type\" content=\"text/html; charset=utf-8\">\n",
    "    <title>Embed Demo</title>\n",
    "    {{ js_resources|indent(4)|safe }}\n",
    "    {{ css_resources|indent(4)|safe }}\n",
    "    {{ plot_script|indent(4)|safe }}\n",
    "  </head>\n",
    "  <body>\n",
    "    {{ plot_div|indent(4)|safe }}\n",
    "  </body>\n",
    "</html>\"\"\"\n",
    "\"\"\" first we have to make a route and then create function using the component object the output is a tag of div and script \n",
    "which is returened aling with the html and the returned element is embedded in the html using the jinja \"\"\"\n"
   ]
  },
  {
   "attachments": {},
   "cell_type": "markdown",
   "metadata": {},
   "source": [
    "![](img8.png)"
   ]
  },
  {
   "cell_type": "markdown",
   "metadata": {},
   "source": []
  }
 ],
 "metadata": {
  "kernelspec": {
   "display_name": "env",
   "language": "python",
   "name": "python3"
  },
  "language_info": {
   "codemirror_mode": {
    "name": "ipython",
    "version": 3
   },
   "file_extension": ".py",
   "mimetype": "text/x-python",
   "name": "python",
   "nbconvert_exporter": "python",
   "pygments_lexer": "ipython3",
   "version": "3.11.2"
  },
  "orig_nbformat": 4
 },
 "nbformat": 4,
 "nbformat_minor": 2
}
